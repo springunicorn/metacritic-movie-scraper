{
 "cells": [
  {
   "cell_type": "code",
   "execution_count": 1,
   "metadata": {},
   "outputs": [],
   "source": [
    "import test\n",
    "from scrapy.selector import Selector\n"
   ]
  },
  {
   "cell_type": "code",
   "execution_count": 4,
   "metadata": {},
   "outputs": [],
   "source": [
    "infojson = {'@context': 'https://schema.org', '@type': 'Movie', 'name': 'Mary, Queen of Scots', 'description': 'During the sixteenth century, the Catholic Mary, Queen of Scots engages in over two decades of religious and political conflict with her cousin, the Protestant Queen Elizabeth I of England, amidst political intrigue in her native land.', 'datePublished': 'December 22, 1971', 'url': 'https://www.metacritic.com/movie/mary-queen-of-scots-1971', 'image': 'https://static.metacritic.com/images/products/movies/3/df8135bf16f054e889a27fe2f35df122.jpg', 'aggregateRating': {'@type': 'AggregateRating', 'bestRating': '100', 'worstRating': '0', 'ratingValue': '53', 'ratingCount': '6'}, 'contentRating': 'PG-13', 'duration': 'PT128M', 'trailer': {'@type': 'VideoObject', 'name': 'Mary, Queen Of Scots', 'description': 'Mary, Queen of Scots is a 1971 British Universal Pictures biographical film based on the life of Mary, Queen of Scots, written by John Hale and directed by Charles Jarrott. Leading an all-star cast are Vanessa Redgrave as the title character and Glenda Jackson as Elizabeth I. Jackson had previously played the part of Elizabeth in the BBC TV drama Elizabeth R, screened in February and March 1971, the first episode of which was also written by Hale.\\r\\nThe screenplay was written by John Hale and the film directed by Charles Jarrott. Like the play by Friedrich Schiller and the opera by Gaetano Donizetti, it takes considerable liberties with history in order to achieve increased dramatic effect, in particular two fictitious face-to-face encounters between the two Queens (who never met in real life). The film received a less than enthusiastic review from the New York Times, but was nominated for several awards.', 'thumbnailUrl': 'https://www.metacritic.com/images/video/NoVideoThumbnail.png', 'uploadDate': '2018-11-26 15:57:00'}, 'director': [{'@type': 'Person', 'name': 'Charles Jarrott', 'url': 'https://www.metacritic.com/person/charles-jarrott'}], 'actor': [{'@type': 'Person', 'name': 'Andrew Keir', 'url': 'https://www.metacritic.com/person/andrew-keir'}, {'@type': 'Person', 'name': 'Daniel Massey', 'url': 'https://www.metacritic.com/person/daniel-massey'}, {'@type': 'Person', 'name': 'Glenda Jackson', 'url': 'https://www.metacritic.com/person/glenda-jackson'}, {'@type': 'Person', 'name': 'Ian Holm', 'url': 'https://www.metacritic.com/person/ian-holm'}, {'@type': 'Person', 'name': 'Nigel Davenport', 'url': 'https://www.metacritic.com/person/nigel-davenport'}, {'@type': 'Person', 'name': 'Patrick McGoohan', 'url': 'https://www.metacritic.com/person/patrick-mcgoohan'}, {'@type': 'Person', 'name': 'Timothy Dalton', 'url': 'https://www.metacritic.com/person/timothy-dalton'}, {'@type': 'Person', 'name': 'Tom Fleming', 'url': 'https://www.metacritic.com/person/tom-fleming'}, {'@type': 'Person', 'name': 'Trevor Howard', 'url': 'https://www.metacritic.com/person/trevor-howard'}, {'@type': 'Person', 'name': 'Vanessa Redgrave', 'url': 'https://www.metacritic.com/person/vanessa-redgrave'}], 'publisher': [{'@type': 'Organization', 'name': 'Universal Pictures', 'url': 'https://www.metacritic.com/company/universal-pictures'}], 'genre': ['Biography', 'Drama', 'History']}"
   ]
  },
  {
   "cell_type": "code",
   "execution_count": 21,
   "metadata": {},
   "outputs": [
    {
     "data": {
      "text/plain": [
       "'PG-13'"
      ]
     },
     "execution_count": 21,
     "metadata": {},
     "output_type": "execute_result"
    }
   ],
   "source": [
    "infojson['contentRating']"
   ]
  },
  {
   "cell_type": "code",
   "execution_count": 13,
   "metadata": {},
   "outputs": [
    {
     "data": {
      "text/plain": [
       "{'@context': 'https://schema.org',\n",
       " '@type': 'Movie',\n",
       " 'name': 'Mary, Queen of Scots',\n",
       " 'description': 'During the sixteenth century, the Catholic Mary, Queen of Scots engages in over two decades of religious and political conflict with her cousin, the Protestant Queen Elizabeth I of England, amidst political intrigue in her native land.',\n",
       " 'datePublished': 'December 22, 1971',\n",
       " 'url': 'https://www.metacritic.com/movie/mary-queen-of-scots-1971',\n",
       " 'image': 'https://static.metacritic.com/images/products/movies/3/df8135bf16f054e889a27fe2f35df122.jpg',\n",
       " 'aggregateRating': {'@type': 'AggregateRating',\n",
       "  'bestRating': '100',\n",
       "  'worstRating': '0',\n",
       "  'ratingValue': '53',\n",
       "  'ratingCount': '6'},\n",
       " 'contentRating': 'PG-13',\n",
       " 'duration': 'PT128M',\n",
       " 'trailer': {'@type': 'VideoObject',\n",
       "  'name': 'Mary, Queen Of Scots',\n",
       "  'description': 'Mary, Queen of Scots is a 1971 British Universal Pictures biographical film based on the life of Mary, Queen of Scots, written by John Hale and directed by Charles Jarrott. Leading an all-star cast are Vanessa Redgrave as the title character and Glenda Jackson as Elizabeth I. Jackson had previously played the part of Elizabeth in the BBC TV drama Elizabeth R, screened in February and March 1971, the first episode of which was also written by Hale.\\r\\nThe screenplay was written by John Hale and the film directed by Charles Jarrott. Like the play by Friedrich Schiller and the opera by Gaetano Donizetti, it takes considerable liberties with history in order to achieve increased dramatic effect, in particular two fictitious face-to-face encounters between the two Queens (who never met in real life). The film received a less than enthusiastic review from the New York Times, but was nominated for several awards.',\n",
       "  'thumbnailUrl': 'https://www.metacritic.com/images/video/NoVideoThumbnail.png',\n",
       "  'uploadDate': '2018-11-26 15:57:00'},\n",
       " 'director': [{'@type': 'Person',\n",
       "   'name': 'Charles Jarrott',\n",
       "   'url': 'https://www.metacritic.com/person/charles-jarrott'}],\n",
       " 'actor': [{'@type': 'Person',\n",
       "   'name': 'Andrew Keir',\n",
       "   'url': 'https://www.metacritic.com/person/andrew-keir'},\n",
       "  {'@type': 'Person',\n",
       "   'name': 'Daniel Massey',\n",
       "   'url': 'https://www.metacritic.com/person/daniel-massey'},\n",
       "  {'@type': 'Person',\n",
       "   'name': 'Glenda Jackson',\n",
       "   'url': 'https://www.metacritic.com/person/glenda-jackson'},\n",
       "  {'@type': 'Person',\n",
       "   'name': 'Ian Holm',\n",
       "   'url': 'https://www.metacritic.com/person/ian-holm'},\n",
       "  {'@type': 'Person',\n",
       "   'name': 'Nigel Davenport',\n",
       "   'url': 'https://www.metacritic.com/person/nigel-davenport'},\n",
       "  {'@type': 'Person',\n",
       "   'name': 'Patrick McGoohan',\n",
       "   'url': 'https://www.metacritic.com/person/patrick-mcgoohan'},\n",
       "  {'@type': 'Person',\n",
       "   'name': 'Timothy Dalton',\n",
       "   'url': 'https://www.metacritic.com/person/timothy-dalton'},\n",
       "  {'@type': 'Person',\n",
       "   'name': 'Tom Fleming',\n",
       "   'url': 'https://www.metacritic.com/person/tom-fleming'},\n",
       "  {'@type': 'Person',\n",
       "   'name': 'Trevor Howard',\n",
       "   'url': 'https://www.metacritic.com/person/trevor-howard'},\n",
       "  {'@type': 'Person',\n",
       "   'name': 'Vanessa Redgrave',\n",
       "   'url': 'https://www.metacritic.com/person/vanessa-redgrave'}],\n",
       " 'publisher': [{'@type': 'Organization',\n",
       "   'name': 'Universal Pictures',\n",
       "   'url': 'https://www.metacritic.com/company/universal-pictures'}],\n",
       " 'genre': ['Biography', 'Drama', 'History']}"
      ]
     },
     "execution_count": 13,
     "metadata": {},
     "output_type": "execute_result"
    }
   ],
   "source": [
    "infojson"
   ]
  },
  {
   "cell_type": "code",
   "execution_count": 23,
   "metadata": {},
   "outputs": [
    {
     "data": {
      "text/plain": [
       "3"
      ]
     },
     "execution_count": 23,
     "metadata": {},
     "output_type": "execute_result"
    }
   ],
   "source": [
    "int('based on 3 reviews'.split()[2])"
   ]
  },
  {
   "cell_type": "code",
   "execution_count": null,
   "metadata": {},
   "outputs": [],
   "source": []
  },
  {
   "cell_type": "code",
   "execution_count": null,
   "metadata": {},
   "outputs": [],
   "source": []
  },
  {
   "cell_type": "code",
   "execution_count": null,
   "metadata": {},
   "outputs": [],
   "source": []
  },
  {
   "cell_type": "code",
   "execution_count": null,
   "metadata": {},
   "outputs": [],
   "source": []
  },
  {
   "cell_type": "code",
   "execution_count": null,
   "metadata": {},
   "outputs": [],
   "source": []
  },
  {
   "cell_type": "code",
   "execution_count": null,
   "metadata": {},
   "outputs": [],
   "source": []
  }
 ],
 "metadata": {
  "kernelspec": {
   "display_name": "Python 3",
   "language": "python",
   "name": "python3"
  },
  "language_info": {
   "codemirror_mode": {
    "name": "ipython",
    "version": 3
   },
   "file_extension": ".py",
   "mimetype": "text/x-python",
   "name": "python",
   "nbconvert_exporter": "python",
   "pygments_lexer": "ipython3",
   "version": "3.7.3"
  }
 },
 "nbformat": 4,
 "nbformat_minor": 2
}
